{
  "nbformat": 4,
  "nbformat_minor": 0,
  "metadata": {
    "colab": {
      "name": "MoviesDB-MulesoftAssessment-KrithikaM.ipynb",
      "provenance": []
    },
    "kernelspec": {
      "name": "python3",
      "display_name": "Python 3"
    },
    "language_info": {
      "name": "python"
    }
  },
  "cells": [
    {
      "cell_type": "code",
      "execution_count": 2,
      "metadata": {
        "colab": {
          "base_uri": "https://localhost:8080/"
        },
        "id": "SckNqZ4CRRTE",
        "outputId": "3425e2f4-943a-4c80-d750-cbe3b8016686"
      },
      "outputs": [
        {
          "output_type": "stream",
          "name": "stdout",
          "text": [
            "   ID  Movie_Name   Lead_Actor       Lead_Actress      Director_Name  \\\n",
            "0   1       Beast        Vijay        Pooja Hegde  Nelson Dilipkumar   \n",
            "1   2      Vikram  Kaml Haasan  Gayathrie Shankar   Lokesh Kanagaraj   \n",
            "2   3  Spider-Man  Tom Holland            Zendaya          Jon Watts   \n",
            "3   4      Karnan      Dhanush    Rajisha Vijayan      Mari Selvaraj   \n",
            "\n",
            "   Year_Of_Release  \n",
            "0             2022  \n",
            "1             2022  \n",
            "2             2021  \n",
            "3             2021   \n",
            "\n",
            "   ID Movie_Name Lead_Actor Lead_Actress      Director_Name  Year_Of_Release\n",
            "0   1      Beast      Vijay  Pooja Hegde  Nelson Dilipkumar             2022\n"
          ]
        }
      ],
      "source": [
        "# Importing Packages\n",
        "import sqlite3\n",
        "import pandas as pd\n",
        "\n",
        "db = sqlite3.connect('movies.db')\n",
        "\n",
        "cursor = db.cursor()\n",
        "\n",
        "cursor.execute(\"CREATE TABLE IF NOT EXISTS movies (id INT, Movie_Name VARCHAR(30), Lead_Actor VARCHAR(30), Lead_Actress VARCHAR(30), Director_Name VARCHAR(30) ,Year_Of_Release INT)\")\n",
        "\n",
        "ids = [1,2,3,4]\n",
        "movies = [\"Beast\",\"Vikram\",\"Spider-Man\",\"Karnan\"]\n",
        "heros = [\"Vijay\",\"Kaml Haasan\",\"Tom Holland\",\"Dhanush\"]\n",
        "heroines = [\"Pooja Hegde\",\"Gayathrie Shankar\",\"Zendaya\",\"Rajisha Vijayan\"]\n",
        "directors = [\"Nelson Dilipkumar\",\"Lokesh Kanagaraj\",\"Jon Watts\",\"Mari Selvaraj\"]\n",
        "years = [\"2022\",\"2022\",\"2021\",\"2021\"]\n",
        "\n",
        "columns = [\"ID\",\"Movie_Name\",\"Lead_Actor\",\"Lead_Actress\",\"Director_Name\",\"Year_Of_Release\"]\n",
        "\n",
        "for id,movie,hero,heroine,director,year in zip(ids,movies,heros,heroines,directors,years):\n",
        "    cursor.execute('''INSERT INTO movies(id, Movie_Name, Lead_Actor, Lead_Actress, Director_Name,Year_Of_Release) VALUES({},\"{}\",\"{}\",\"{}\",\"{}\",{})'''.format(id,movie,hero,heroine,director,year))\n",
        "\n",
        "query = \"\"\"SELECT * from movies\"\"\"\n",
        "cursor.execute(query)\n",
        "records = cursor.fetchall()\n",
        "\n",
        "print(pd.DataFrame(records,columns = columns),\"\\n\")\n",
        "\n",
        "\n",
        "query = \"\"\"SELECT * from movies where Lead_Actor = 'Vijay'\"\"\"\n",
        "cursor.execute(query)\n",
        "records = cursor.fetchall()\n",
        "\n",
        "print(pd.DataFrame(records,columns = columns))"
      ]
    }
  ]
}